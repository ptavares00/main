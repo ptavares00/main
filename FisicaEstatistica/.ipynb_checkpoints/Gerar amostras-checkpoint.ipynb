{
 "cells": [
  {
   "cell_type": "code",
   "execution_count": 1,
   "metadata": {},
   "outputs": [],
   "source": [
    "import numpy as np\n",
    "import numpy.random as rd\n",
    "import matplotlib.pyplot as plt\n",
    "%matplotlib inline\n",
    "import timeit"
   ]
  },
  {
   "cell_type": "markdown",
   "metadata": {},
   "source": [
    "# Métodos para modelos discretos "
   ]
  },
  {
   "cell_type": "code",
   "execution_count": 2,
   "metadata": {},
   "outputs": [],
   "source": [
    "def inversao_discreto(p, M):\n",
    "    amostra=np.zeros(M,dtype=int)\n",
    "    acum = np.zeros(len(p))\n",
    "    acum[:] = p\n",
    "    \n",
    "    for  i in range(1,len(acum)):\n",
    "        acum[i] += acum[i - 1]\n",
    "        \n",
    "    r = rd.random_sample(M)\n",
    "    for k in range(M):\n",
    "        i = 0\n",
    "        while(r[k] > acum[i]):\n",
    "            i += 1\n",
    "        amostra[k] = i\n",
    "    return amostra\n",
    "\n",
    "\n",
    "\n",
    "\n",
    "def vonNeumann(p, M):\n",
    "    \"\"\"\n",
    "    p e um array de probabilidades com a dimensao\n",
    "    do espaço de eventos\n",
    "    \"\"\"\n",
    "    final = np.zeros([M])\n",
    "    count = 0\n",
    "    while(count < M):\n",
    "        i = int(rd.random()*p.size)\n",
    "        if rd.random() < p[i]:\n",
    "            final[count] = i\n",
    "            count += 1\n",
    "    return final\n",
    "\n",
    "\n",
    "\n",
    "\n",
    "def vonNeumann2(p, M):\n",
    "    \"\"\"\n",
    "    Optimizado pelo uso do numpy\n",
    "    \"\"\"\n",
    "    final = np.array([])\n",
    "    while(final.size < M):\n",
    "        amostra = (rd.random_sample(M) * p.size).astype(int)\n",
    "        resultados, = np.where(rd.random_sample(M)< p[amostra])\n",
    "        resultados = amostra[resultados]\n",
    "        final= np.concatenate((final,resultados))\n",
    "    return final[0:M]\n",
    "\n",
    "\n",
    " \n",
    "def vonNeumannMaxAcceptance(p, M):\n",
    "    final = [] # np.zeros([M])\n",
    "    p2 = p/ np.max(p)\n",
    "    #count = 0\n",
    "    while(len(final) < M):\n",
    "        i = int(rd.random()*p.size)\n",
    "        if rd.random() < p2[i]:\n",
    "            final.append(i) #final[count] = i\n",
    "            # count += 1\n",
    "    return final\n",
    "    \n",
    "def vonNeumannMaxAcceptance2(p, M):\n",
    "    \"\"\"\n",
    "    Optimizado pelo uso do numpy\n",
    "    \"\"\"\n",
    "    final = np.array([],dtype=int)\n",
    "    maximo = np.max(p)\n",
    "    \n",
    "    while(final.size < M):\n",
    "        amostra =    (rd.random_sample(M) * p.size).astype(int)\n",
    "        resultados, = np.where(rd.random_sample(M)< p[amostra]/maximo)\n",
    "        resultados = amostra[resultados]\n",
    "        final= np.concatenate((final,resultados))\n",
    "    return final[0:M]\n"
   ]
  },
  {
   "cell_type": "markdown",
   "metadata": {},
   "source": [
    "## Testes para modelos discretos: Tempo de execução"
   ]
  },
  {
   "cell_type": "code",
   "execution_count": 7,
   "metadata": {},
   "outputs": [
    {
     "name": "stdout",
     "output_type": "stream",
     "text": [
      "1.94 ms ± 78.4 µs per loop (mean ± std. dev. of 7 runs, 1000 loops each)\n",
      "11.6 ms ± 486 µs per loop (mean ± std. dev. of 7 runs, 100 loops each)\n",
      "266 µs ± 5.2 µs per loop (mean ± std. dev. of 7 runs, 1000 loops each)\n",
      "2.59 ms ± 117 µs per loop (mean ± std. dev. of 7 runs, 100 loops each)\n",
      "94.1 µs ± 2.76 µs per loop (mean ± std. dev. of 7 runs, 10000 loops each)\n"
     ]
    }
   ],
   "source": [
    "M=1000\n",
    "model=np.array([0.1,0.2,0.1,0.2,0.1,0.2,0.1])\n",
    "%timeit inversao_discreto(model,M)\n",
    "%timeit vonNeumann(model,M)\n",
    "%timeit vonNeumann2(model,M)\n",
    "%timeit vonNeumannMaxAcceptance(model,M)\n",
    "%timeit vonNeumannMaxAcceptance2(model,M)\n"
   ]
  },
  {
   "cell_type": "markdown",
   "metadata": {},
   "source": [
    "## Testes para modelos discretos: Verificação das frequências"
   ]
  },
  {
   "cell_type": "markdown",
   "metadata": {},
   "source": [
    "Se o método estiver certo os desvios das frequências em relação à probabilidade deverão diminuir com o tamanho da amostra: A soma dos quadradados dos desvios deverá escalar com 1/M  (em logaritmo uma recta com declive -1)"
   ]
  },
  {
   "cell_type": "code",
   "execution_count": 32,
   "metadata": {},
   "outputs": [
    {
     "data": {
      "image/png": "[encoded data removed]",
      "text/plain": [
       "<matplotlib.figure.Figure at 0x10ccdfc88>"
      ]
     },
     "metadata": {},
     "output_type": "display_data"
    }
   ],
   "source": [
    "\n",
    "model=np.array([0.1,0.2,0.1,0.2,0.1,0.2,0.1])\n",
    "results = np.zeros([2,10])\n",
    "\n",
    "for k in range(10):\n",
    "    M = 2**(4 + k)\n",
    "    avg = 0\n",
    "    for j in range(100):\n",
    "        sample = inversao_discreto(model,M)\n",
    "        sum = 0\n",
    "        for i in range(model.size):\n",
    "            sum += (model[i] - np.where(sample==i)[0].size/M )**2\n",
    "        avg += (sum - avg)/(j + 1)\n",
    "    results[0][k] = M\n",
    "    results[1][k] = avg\n",
    "fig = plt.figure()\n",
    "ax1 = fig.add_subplot(1,1,1)\n",
    "ax1.plot(results[0],results[1])\n",
    "ax1.set_yscale('log')\n",
    "ax1.set_xscale('log')\n"
   ]
  },
  {
   "cell_type": "markdown",
   "metadata": {},
   "source": [
    "# Distribuições Contínuas "
   ]
  },
  {
   "cell_type": "markdown",
   "metadata": {},
   "source": [
    "## Distribuição Exponencial pelo método do logaritmo "
   ]
  },
  {
   "cell_type": "code",
   "execution_count": 40,
   "metadata": {},
   "outputs": [],
   "source": [
    "def exp_generator(M, lamb):\n",
    "    \"\"\"\n",
    "    rho(t) = lamb * exp( - lamb * t)\n",
    "    \"\"\"\n",
    "    return np.log(1/rd.random_sample(M))/lamb"
   ]
  },
  {
   "cell_type": "code",
   "execution_count": 51,
   "metadata": {},
   "outputs": [
    {
     "data": {
      "text/plain": [
       "[<matplotlib.lines.Line2D at 0x10cbf8470>]"
      ]
     },
     "execution_count": 51,
     "metadata": {},
     "output_type": "execute_result"
    },
    {
     "data": {
      "image/png": "[encoded data removed]",
      "text/plain": [
       "<matplotlib.figure.Figure at 0x10cb045f8>"
      ]
     },
     "metadata": {},
     "output_type": "display_data"
    }
   ],
   "source": [
    "n, bins, patches = plt.hist(exp_generator(100000,0.1),1000,normed=True)\n",
    "plt.plot(bins,0.1*np.exp(-0.1*bins))"
   ]
  },
  {
   "cell_type": "markdown",
   "metadata": {},
   "source": [
    "## Distribuição Gaussiana com o método de von Neumann"
   ]
  },
  {
   "cell_type": "markdown",
   "metadata": {},
   "source": [
    "Vamos criar uma distribuição Gaussiana gerando uniformemente no intervalo $[-10\\sigma,10\\sigma]$. Note-se que estamos a truncar o intervalo pois a distribuição gaussiana tem como dominínio a recta real."
   ]
  },
  {
   "cell_type": "code",
   "execution_count": 121,
   "metadata": {},
   "outputs": [],
   "source": [
    "def Gaussian_vonNeumann(M,mu,sigma,width):\n",
    "    final = np.array([])\n",
    "    while(final.size < M):\n",
    "        x = width/sigma*(rd.random_sample(M) - 0.5)\n",
    "        results, = np.where(rd.random_sample(M) < np.exp(- 0.5*x**2))\n",
    "        results = x[results]\n",
    "        final= np.concatenate((final,results))\n",
    "        \n",
    "    return mu + sigma*final[0:M]\n",
    "    \n",
    "    "
   ]
  },
  {
   "cell_type": "code",
   "execution_count": 122,
   "metadata": {},
   "outputs": [
    {
     "data": {
      "text/plain": [
       "[<matplotlib.lines.Line2D at 0x1103c1c18>]"
      ]
     },
     "execution_count": 122,
     "metadata": {},
     "output_type": "execute_result"
    },
    {
     "data": {
      "image/png": "[encoded data removed]",
      "text/plain": [
       "<matplotlib.figure.Figure at 0x110df54e0>"
      ]
     },
     "metadata": {},
     "output_type": "display_data"
    }
   ],
   "source": [
    "n, bins, patches = plt.hist(Gaussian_vonNeumann(10000,0., 2,40),200,normed=True)\n",
    "plt.plot(bins,np.exp(-0.5*(bins/2)**2)/np.sqrt(2*np.pi*2**2))"
   ]
  },
  {
   "cell_type": "markdown",
   "metadata": {},
   "source": [
    "# Distribuição Gaussiana com o método misto: Propor com uma exponencial e introduzir um passo de aceitação "
   ]
  },
  {
   "cell_type": "code",
   "execution_count": 92,
   "metadata": {},
   "outputs": [],
   "source": [
    "def Gaussian_Misto(M,mu,sigma,lamb):\n",
    "    final = np.array([])\n",
    "    while(final.size < M):\n",
    "        x = exp_generator(M, lamb)\n",
    "        results, = np.where(rd.random_sample(M) < np.exp(- 0.5*x**2 + lamb*x - 0.5*lamb**2))\n",
    "        results = x[results]\n",
    "        final= np.concatenate((final,results))\n",
    "    return mu + sigma*final[0:M]*np.sign(rd.random_sample(M)-0.5)\n"
   ]
  },
  {
   "cell_type": "code",
   "execution_count": 95,
   "metadata": {},
   "outputs": [
    {
     "data": {
      "text/plain": [
       "[<matplotlib.lines.Line2D at 0x110c839b0>]"
      ]
     },
     "execution_count": 95,
     "metadata": {},
     "output_type": "execute_result"
    },
    {
     "data": {
      "image/png": "[encoded data removed]",
      "text/plain": [
       "<matplotlib.figure.Figure at 0x1106a9a90>"
      ]
     },
     "metadata": {},
     "output_type": "display_data"
    }
   ],
   "source": [
    "n, bins, patches = plt.hist(Gaussian_Misto(10000,0,2,1),200,normed=True)\n",
    "plt.plot(bins,np.exp(-0.5*(bins/2)**2)/np.sqrt(2*np.pi*2**2))"
   ]
  },
  {
   "cell_type": "markdown",
   "metadata": {},
   "source": [
    "## Testar a eficiência da geração de números gaussianos\n",
    "\n",
    "Nesta simulação todas as amostras são independentes pelo que a eficiência é dada pelo tempo de execução "
   ]
  },
  {
   "cell_type": "code",
   "execution_count": 125,
   "metadata": {},
   "outputs": [
    {
     "name": "stdout",
     "output_type": "stream",
     "text": [
      "47.9 ms ± 2.48 ms per loop (mean ± std. dev. of 7 runs, 10 loops each)\n",
      "23 ms ± 1.02 ms per loop (mean ± std. dev. of 7 runs, 10 loops each)\n",
      "17.4 ms ± 500 µs per loop (mean ± std. dev. of 7 runs, 100 loops each)\n",
      "12.1 ms ± 354 µs per loop (mean ± std. dev. of 7 runs, 100 loops each)\n",
      "12.6 ms ± 165 µs per loop (mean ± std. dev. of 7 runs, 100 loops each)\n",
      "12.3 ms ± 374 µs per loop (mean ± std. dev. of 7 runs, 100 loops each)\n",
      "12.3 ms ± 141 µs per loop (mean ± std. dev. of 7 runs, 100 loops each)\n",
      "12.2 ms ± 125 µs per loop (mean ± std. dev. of 7 runs, 100 loops each)\n",
      "12 ms ± 540 µs per loop (mean ± std. dev. of 7 runs, 100 loops each)\n",
      "11.7 ms ± 97 µs per loop (mean ± std. dev. of 7 runs, 100 loops each)\n",
      "11.7 ms ± 148 µs per loop (mean ± std. dev. of 7 runs, 100 loops each)\n",
      "17.4 ms ± 133 µs per loop (mean ± std. dev. of 7 runs, 100 loops each)\n",
      "17.2 ms ± 236 µs per loop (mean ± std. dev. of 7 runs, 100 loops each)\n",
      "21.8 ms ± 460 µs per loop (mean ± std. dev. of 7 runs, 10 loops each)\n",
      "28.5 ms ± 1.09 ms per loop (mean ± std. dev. of 7 runs, 10 loops each)\n",
      "33 ms ± 783 µs per loop (mean ± std. dev. of 7 runs, 10 loops each)\n",
      "41.4 ms ± 820 µs per loop (mean ± std. dev. of 7 runs, 10 loops each)\n",
      "59.7 ms ± 955 µs per loop (mean ± std. dev. of 7 runs, 10 loops each)\n",
      "86.5 ms ± 3.41 ms per loop (mean ± std. dev. of 7 runs, 10 loops each)\n",
      "114 ms ± 4.15 ms per loop (mean ± std. dev. of 7 runs, 10 loops each)\n"
     ]
    },
    {
     "data": {
      "text/plain": [
       "[<matplotlib.lines.Line2D at 0x1116ec320>]"
      ]
     },
     "execution_count": 125,
     "metadata": {},
     "output_type": "execute_result"
    },
    {
     "data": {
      "image/png": "[encoded data removed]",
      "text/plain": [
       "<matplotlib.figure.Figure at 0x110f917f0>"
      ]
     },
     "metadata": {},
     "output_type": "display_data"
    }
   ],
   "source": [
    "M = 20\n",
    "x = np.zeros(M)\n",
    "y = np.zeros(M)\n",
    "count = 0\n",
    "for i in np.linspace(0.1,3,M):\n",
    "    result = %timeit -o Gaussian_Misto(100000,0,2, i)\n",
    "    x[count] = i\n",
    "    y[count] = result.average\n",
    "    count += 1\n",
    "plt.plot(x,y)"
   ]
  },
  {
   "cell_type": "code",
   "execution_count": 126,
   "metadata": {},
   "outputs": [
    {
     "name": "stdout",
     "output_type": "stream",
     "text": [
      "6.98 ms ± 176 µs per loop (mean ± std. dev. of 7 runs, 100 loops each)\n",
      "6.72 ms ± 115 µs per loop (mean ± std. dev. of 7 runs, 100 loops each)\n",
      "6.9 ms ± 117 µs per loop (mean ± std. dev. of 7 runs, 100 loops each)\n",
      "7.11 ms ± 103 µs per loop (mean ± std. dev. of 7 runs, 100 loops each)\n",
      "7.04 ms ± 163 µs per loop (mean ± std. dev. of 7 runs, 100 loops each)\n",
      "10.6 ms ± 273 µs per loop (mean ± std. dev. of 7 runs, 100 loops each)\n",
      "10.4 ms ± 91.3 µs per loop (mean ± std. dev. of 7 runs, 100 loops each)\n",
      "13.7 ms ± 356 µs per loop (mean ± std. dev. of 7 runs, 100 loops each)\n",
      "13.8 ms ± 449 µs per loop (mean ± std. dev. of 7 runs, 100 loops each)\n",
      "13.9 ms ± 341 µs per loop (mean ± std. dev. of 7 runs, 100 loops each)\n",
      "17.4 ms ± 647 µs per loop (mean ± std. dev. of 7 runs, 100 loops each)\n",
      "17.3 ms ± 751 µs per loop (mean ± std. dev. of 7 runs, 100 loops each)\n",
      "19.5 ms ± 176 µs per loop (mean ± std. dev. of 7 runs, 100 loops each)\n",
      "19.4 ms ± 244 µs per loop (mean ± std. dev. of 7 runs, 100 loops each)\n",
      "19.6 ms ± 359 µs per loop (mean ± std. dev. of 7 runs, 100 loops each)\n",
      "23.5 ms ± 555 µs per loop (mean ± std. dev. of 7 runs, 10 loops each)\n",
      "22.6 ms ± 910 µs per loop (mean ± std. dev. of 7 runs, 10 loops each)\n",
      "25.8 ms ± 506 µs per loop (mean ± std. dev. of 7 runs, 10 loops each)\n",
      "25.5 ms ± 787 µs per loop (mean ± std. dev. of 7 runs, 10 loops each)\n",
      "26.7 ms ± 726 µs per loop (mean ± std. dev. of 7 runs, 10 loops each)\n"
     ]
    },
    {
     "data": {
      "text/plain": [
       "[<matplotlib.lines.Line2D at 0x11162f1d0>]"
      ]
     },
     "execution_count": 126,
     "metadata": {},
     "output_type": "execute_result"
    },
    {
     "data": {
      "image/png": "[encoded data removed]",
      "text/plain": [
       "<matplotlib.figure.Figure at 0x110f91898>"
      ]
     },
     "metadata": {},
     "output_type": "display_data"
    }
   ],
   "source": [
    "M = 20\n",
    "x = np.zeros(M)\n",
    "y = np.zeros(M)\n",
    "count = 0\n",
    "for i in np.linspace(1,40,M):\n",
    "    result = %timeit -o Gaussian_vonNeumann(100000,0., 2,i)\n",
    "    x[count] = i\n",
    "    y[count] = result.average\n",
    "    count += 1\n",
    "plt.plot(x,y)"
   ]
  },
  {
   "cell_type": "markdown",
   "metadata": {},
   "source": [
    "# Medir Pi"
   ]
  },
  {
   "cell_type": "code",
   "execution_count": 29,
   "metadata": {},
   "outputs": [],
   "source": [
    "def get_pi(M):\n",
    "    \"\"\"\n",
    "    Esta função estima o valor de pi através do lançamento de M números num quadrado de largura 1\n",
    "    E da contagem do número de elementos que estão dentro do quarto de círculo.\n",
    "    \"\"\"\n",
    "    x = rd.random_sample(M)\n",
    "    y = rd.random_sample(M)\n",
    "    results, = np.where(x**2 + y**2 < 1)\n",
    "    return 4*results.size/M\n",
    "\n",
    "def desviomedioPI(NN,M):\n",
    "    soma = 0\n",
    "    for i in range(NN):\n",
    "        soma += (get_pi(M)-np.pi)**2\n",
    "    return np.sqrt(soma/NN)"
   ]
  },
  {
   "cell_type": "markdown",
   "metadata": {},
   "source": [
    "## Testes da medição de Pi"
   ]
  },
  {
   "cell_type": "code",
   "execution_count": 62,
   "metadata": {},
   "outputs": [
    {
     "data": {
      "image/png": "[encoded data removed]",
      "text/plain": [
       "<matplotlib.figure.Figure at 0x10e3d5b00>"
      ]
     },
     "metadata": {},
     "output_type": "display_data"
    }
   ],
   "source": [
    "M = 10\n",
    "x = 2**np.linspace(1,10,10)\n",
    "y = 0*x\n",
    "for M in range(x.size):\n",
    "    y[M] =  desviomedioPI(1000,int(x[M]))\n",
    "fig = plt.figure()\n",
    "ax = fig.add_subplot(1,1,1)\n",
    "ax.plot(x,y)\n",
    "ax.plot(x,1.7/np.sqrt(x),'--')\n",
    "ax.set_yscale('log')\n",
    "ax.set_xscale('log')"
   ]
  },
  {
   "cell_type": "code",
   "execution_count": 87,
   "metadata": {},
   "outputs": [
    {
     "data": {
      "text/plain": [
       "array([ 1., -1., -1.,  1.,  1.,  1., -1., -1., -1., -1.])"
      ]
     },
     "execution_count": 87,
     "metadata": {},
     "output_type": "execute_result"
    }
   ],
   "source": [
    "np.sign(rd.random_sample(10)-0.5)"
   ]
  },
  {
   "cell_type": "code",
   "execution_count": null,
   "metadata": {},
   "outputs": [],
   "source": []
  }
 ],
 "metadata": {
  "kernelspec": {
   "display_name": "Python 3",
   "language": "python",
   "name": "python3"
  },
  "language_info": {
   "codemirror_mode": {
    "name": "ipython",
    "version": 3
   },
   "file_extension": ".py",
   "mimetype": "text/x-python",
   "name": "python",
   "nbconvert_exporter": "python",
   "pygments_lexer": "ipython3",
   "version": "3.7.4"
  },
  "latex_envs": {
   "LaTeX_envs_menu_present": true,
   "autoclose": false,
   "autocomplete": true,
   "bibliofile": "biblio.bib",
   "cite_by": "apalike",
   "current_citInitial": 1,
   "eqLabelWithNumbers": true,
   "eqNumInitial": 1,
   "hotkeys": {
    "equation": "Ctrl-E",
    "itemize": "Ctrl-I"
   },
   "labels_anchors": false,
   "latex_user_defs": false,
   "report_style_numbering": false,
   "user_envs_cfg": false
  }
 },
 "nbformat": 4,
 "nbformat_minor": 2
}
