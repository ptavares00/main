{
 "cells": [
  {
   "cell_type": "markdown",
   "metadata": {},
   "source": [
    "# Exercício 1"
   ]
  },
  {
   "cell_type": "code",
   "execution_count": 17,
   "metadata": {},
   "outputs": [
    {
     "name": "stdout",
     "output_type": "stream",
     "text": [
      "788657867364790503552363213932185062295135977687173263294742533244359449963403342920304284011984623904177212138919638830257642790242637105061926624952829931113462857270763317237396988943922445621451664240254033291864131227428294853277524242407573903240321257405579568660226031904170324062351700858796178922222789623703897374720000000000000000000000000000000000000000000000000\n",
      "\n",
      "inf\n"
     ]
    }
   ],
   "source": [
    "def fatorial_int(n):\n",
    "    if n==0:\n",
    "        return 1\n",
    "    else:\n",
    "        fat=n\n",
    "        for i in range(2,n):\n",
    "            fat*=i\n",
    "        return fat\n",
    "\n",
    "def fatorial_float(n):\n",
    "    if n ==0:\n",
    "        return 1.0\n",
    "    else:\n",
    "        n=float(n)\n",
    "        fat=n\n",
    "        erro=1e-12\n",
    "        i=2.0\n",
    "        while abs(i-n) > erro:\n",
    "            fat*=i\n",
    "            i+=1\n",
    "        return fat\n",
    "            \n",
    "print(fatorial_int(200))\n",
    "print()\n",
    "print(fatorial_float(200))"
   ]
  },
  {
   "cell_type": "markdown",
   "metadata": {},
   "source": [
    "# Exercício 2"
   ]
  },
  {
   "cell_type": "code",
   "execution_count": 31,
   "metadata": {},
   "outputs": [
    {
     "name": "stdout",
     "output_type": "stream",
     "text": [
      "\n",
      "Alínea 1:\n",
      "[-9.999894245993346e-07, -999999.999999]\n",
      "\n",
      "Alínea 2:\n",
      "[-1.000000000001e-06, -1000010.5755125057]\n",
      "\n",
      "Alínea 3:\n",
      "-9.999947123001673e-07  +-  5.2877008327456565e-12    ou    -1000005.2877557529  +-  5.287756752863061\n"
     ]
    }
   ],
   "source": [
    "import numpy as np\n",
    "def eq_1(a,b,c):\n",
    "    r=(b**2-4*a*c)**0.5\n",
    "    return [(-b+r)/(2*a),(-b-r)/(2*a)]\n",
    "\n",
    "def eq_2(a,b,c):\n",
    "    r=(b**2-4*a*c)**0.5\n",
    "    return [2*c/(-b-r),2*c/(-b+r)]\n",
    "\n",
    "a=0.001\n",
    "b=1000\n",
    "c=0.001\n",
    "print()\n",
    "print(\"Alínea 1:\")\n",
    "print(eq_1(a,b,c))\n",
    "print()\n",
    "print(\"Alínea 2:\")\n",
    "print(eq_2(a,b,c))\n",
    "\n",
    "def eq(a,b,c):\n",
    "    sol1=np.array(eq_1(a,b,c),float)\n",
    "    sol2=np.array(eq_2(a,b,c),float)\n",
    "    sol=(sol1+sol2)/2\n",
    "    prec=abs(sol1-sol2)/2\n",
    "    return [sol,prec]\n",
    "print()\n",
    "print(\"Alínea 3:\")\n",
    "res=eq(a,b,c)\n",
    "print(res[0][0], \" +- \", res[1][0], \"   ou   \", res[0][1], \" +- \", res[1][1])"
   ]
  },
  {
   "cell_type": "markdown",
   "metadata": {},
   "source": [
    "# Exercício 3"
   ]
  },
  {
   "cell_type": "code",
   "execution_count": 5,
   "metadata": {},
   "outputs": [
    {
     "name": "stdout",
     "output_type": "stream",
     "text": [
      "Valor Real = 1\n",
      "-2  :  1.010000000000001\n",
      "-4  :  1.0000999999998899\n",
      "-6  :  1.000000999917733\n",
      "-8  :  1.0000000039225287\n",
      "-10  :  1.0000000828403708\n",
      "-12  :  1.000088900583341\n",
      "-14  :  0.9992007221626507\n",
      "-16  :  0.0\n",
      "-18  :  0.0\n",
      "-20  :  0.0\n"
     ]
    }
   ],
   "source": [
    "def f(x):\n",
    "    return x*(x-1)\n",
    "print(\"Valor Real = 1\")\n",
    "i=1e-2\n",
    "a=-2\n",
    "while i>1e-21:\n",
    "    print(a, \" : \",(f(1+i)-f(1))/i)\n",
    "    i*=1e-2\n",
    "    a-=2\n",
    "# Somar 2 números com uma ordem de grandeza muito grande"
   ]
  },
  {
   "cell_type": "code",
   "execution_count": 6,
   "metadata": {},
   "outputs": [
    {
     "name": "stdout",
     "output_type": "stream",
     "text": [
      "Valor Real = -1\n",
      "-2  :  -0.9900000000000001\n",
      "-4  :  -0.9999\n",
      "-6  :  -0.999999\n",
      "-8  :  -0.99999999\n",
      "-10  :  -0.9999999999\n",
      "-12  :  -0.9999999999989999\n",
      "-14  :  -0.99999999999999\n",
      "-16  :  -0.9999999999999999\n",
      "-18  :  -1.0\n",
      "-20  :  -1.0\n"
     ]
    }
   ],
   "source": [
    "#Para x=0\n",
    "def f(x):\n",
    "    return x*(x-1)\n",
    "print(\"Valor Real = -1\")\n",
    "i=1e-2\n",
    "a=-2\n",
    "while i>1e-21:\n",
    "    print(a, \" : \",(f(i)-f(0))/i)\n",
    "    i*=1e-2\n",
    "    a-=2\n",
    "    \n",
    "# como estamos a somar 0, não temos o problema anterior"
   ]
  },
  {
   "cell_type": "markdown",
   "metadata": {},
   "source": [
    "# Exercício 4"
   ]
  },
  {
   "cell_type": "code",
   "execution_count": null,
   "metadata": {},
   "outputs": [],
   "source": [
    "import math as mt\n",
    "import numpy as np\n",
    "def integral(N):\n",
    "    a=-1\n",
    "    b=1\n",
    "    h=(b-a)/N\n",
    "    x=np.arange(a+h,b+h,h)\n",
    "    y=np.sum((abs(1-x**2)**0.5))\n",
    "    return y*h\n",
    "N=1e9\n",
    "print(integral(N))\n",
    "res=mt.pi/2\n",
    "print(integral(N)-res)"
   ]
  }
 ],
 "metadata": {
  "kernelspec": {
   "display_name": "Python 3",
   "language": "python",
   "name": "python3"
  },
  "language_info": {
   "codemirror_mode": {
    "name": "ipython",
    "version": 3
   },
   "file_extension": ".py",
   "mimetype": "text/x-python",
   "name": "python",
   "nbconvert_exporter": "python",
   "pygments_lexer": "ipython3",
   "version": "3.8.5"
  }
 },
 "nbformat": 4,
 "nbformat_minor": 4
}
